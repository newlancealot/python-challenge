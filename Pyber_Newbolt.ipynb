{
 "cells": [
  {
   "cell_type": "code",
   "execution_count": null,
   "metadata": {},
   "outputs": [],
   "source": [
    "import pandas as pd\n",
    "import numpy as np \n",
    "import matplotlib.pyplot as plt\n",
    "import numpy as np\n"
   ]
  },
  {
   "cell_type": "code",
   "execution_count": null,
   "metadata": {},
   "outputs": [],
   "source": [
    "#Three observed trends\n",
    "#Observation 1\n",
    "#Observation 2\n",
    "#Observation 3"
   ]
  },
  {
   "cell_type": "code",
   "execution_count": null,
   "metadata": {},
   "outputs": [],
   "source": [
    "city_df = pd.read_csv(\"hw_Resources/city_data.csv\")\n",
    "ride_df =pd.read_csv(\"hw_Resources/ride_data.csv\")\n",
    "ride_df.head()"
   ]
  },
  {
   "cell_type": "code",
   "execution_count": null,
   "metadata": {},
   "outputs": [],
   "source": [
    "city_df.head()"
   ]
  },
  {
   "cell_type": "code",
   "execution_count": null,
   "metadata": {
    "scrolled": true
   },
   "outputs": [],
   "source": [
    "pyber_df=pd.merge(ride_df, city_df, how=\"outer\", on=\"city\")\n",
    "pyber_df.head()"
   ]
  },
  {
   "cell_type": "code",
   "execution_count": null,
   "metadata": {
    "collapsed": true
   },
   "outputs": [],
   "source": [
    "#Your objective is to build a Bubble Plot that showcases the \n",
    "#    relationship between four key variables:\n",
    "\n",
    "#COLOR SCHEME GOLD, LIGHT SKY BLUE, AND LIGHT CORAL\n",
    "\n",
    "#Average Fare ($) Per City\n",
    "#Total Number of Rides Per City\n",
    "#Total Number of Drivers Per City\n",
    "#City Type (Urban, Suburban, Rural)"
   ]
  },
  {
   "cell_type": "code",
   "execution_count": null,
   "metadata": {},
   "outputs": [],
   "source": [
    "cpCity = pyber_df[[\"city\",\"fare\"]].groupby(\"city\").mean()\n",
    "cpCity=cpCity.reset_index()\n",
    "cpCity.style.format({'fare': '${:.2f}'})\n",
    "cpCity.head()"
   ]
  },
  {
   "cell_type": "code",
   "execution_count": null,
   "metadata": {},
   "outputs": [],
   "source": [
    "#TypeCity=city_df[[\"city\",\"type\"]].groupby(\"type\").group()\n",
    "TypeCity=city_df.groupby(\"type\")\n",
    "#TypeCity = TypeCity.sort_values([\"city\"])\n",
    "TypeCity.head()"
   ]
  },
  {
   "cell_type": "code",
   "execution_count": null,
   "metadata": {},
   "outputs": [],
   "source": [
    "DpC= pyber_df[[\"city\",\"driver_count\"]].groupby(\"city\").mean()\n",
    "DpC.head()"
   ]
  },
  {
   "cell_type": "code",
   "execution_count": null,
   "metadata": {},
   "outputs": [],
   "source": [
    "TotRiders=ride_df[[\"city\",\"ride_id\"]].groupby(\"ride_id\").count()\n",
    "#TotRiders = TotRiders.sort_values([\"ride_id\"], ascending=True)\n",
    "TotRiders"
   ]
  },
  {
   "cell_type": "code",
   "execution_count": null,
   "metadata": {
    "collapsed": true
   },
   "outputs": [],
   "source": [
    "#In addition, you will be expected to produce the following \n",
    "    #three pie charts:\n",
    "    \n",
    "#COLOR SCHEME GOLD, LIGHT SKY BLUE, AND LIGHT CORAL\n",
    "\n",
    "#'% of Total Fares by City Type\n",
    "#'% of Total Rides by City Type\n",
    "#'% of Total Drivers by City Type"
   ]
  },
  {
   "cell_type": "code",
   "execution_count": null,
   "metadata": {},
   "outputs": [],
   "source": [
    "#========================================================================\n",
    "#Total fare per city\n",
    "#========================================================================\n",
    "\n",
    "fareTSum= pyber_df[[\"type\",\"fare\"]].groupby(\"type\").sum()\n",
    "fareTSum=fareTSum.reset_index()\n",
    "fareTSum"
   ]
  },
  {
   "cell_type": "code",
   "execution_count": null,
   "metadata": {},
   "outputs": [],
   "source": [
    "#========================================================================\n",
    "#Total fare calculation from original data\n",
    "#========================================================================\n",
    "\n",
    "totalFare=ride_df[\"fare\"].sum()\n",
    "totalFare"
   ]
  },
  {
   "cell_type": "code",
   "execution_count": null,
   "metadata": {},
   "outputs": [],
   "source": [
    "#========================================================================\n",
    "#Total fare calculation from dataframe that seperates fare total by city type\n",
    "#========================================================================\n",
    "\n",
    "\n",
    "totalFare2=fareTSum[\"fare\"].sum()\n",
    "\n",
    "totalFare2"
   ]
  },
  {
   "cell_type": "code",
   "execution_count": null,
   "metadata": {},
   "outputs": [],
   "source": [
    "#========================================================================\n",
    "#Rides sum per City Type\n",
    "#========================================================================\n",
    "\n",
    "\n",
    "ridesTSum= pyber_df[[\"type\",\"fare\"]].groupby(\"type\").count()\n",
    "ridesTSum=ridesTSum.reset_index()\n",
    "ridesTSum"
   ]
  },
  {
   "cell_type": "code",
   "execution_count": null,
   "metadata": {},
   "outputs": [],
   "source": [
    "#========================================================================\n",
    "#Driver sums per City Type\n",
    "#========================================================================\n",
    "\n",
    "driverTSum= city_df[[\"type\",\"driver_count\"]].groupby(\"type\").sum()\n",
    "driverTSum=driverTSum.reset_index()\n",
    "driverTSum"
   ]
  },
  {
   "cell_type": "code",
   "execution_count": null,
   "metadata": {
    "collapsed": true
   },
   "outputs": [],
   "source": []
  }
 ],
 "metadata": {
  "kernelspec": {
   "display_name": "Python 3",
   "language": "python",
   "name": "python3"
  },
  "language_info": {
   "codemirror_mode": {
    "name": "ipython",
    "version": 3
   },
   "file_extension": ".py",
   "mimetype": "text/x-python",
   "name": "python",
   "nbconvert_exporter": "python",
   "pygments_lexer": "ipython3",
   "version": "3.6.3"
  }
 },
 "nbformat": 4,
 "nbformat_minor": 2
}
