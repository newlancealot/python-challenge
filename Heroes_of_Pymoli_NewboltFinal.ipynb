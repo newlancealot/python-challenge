{
 "cells": [
  {
   "cell_type": "code",
   "execution_count": null,
   "metadata": {},
   "outputs": [],
   "source": [
    "#Christopher Newbolt\n",
    "import pandas as pd\n",
    "import numpy as np\n",
    "import os\n",
    "import json\n",
    "import numpy as np"
   ]
  },
  {
   "cell_type": "code",
   "execution_count": null,
   "metadata": {
    "collapsed": true
   },
   "outputs": [],
   "source": [
    "filepath1 = os.path.join('Resources','purchase_data.json')\n",
    "filepath2 = os.path.join('Resources', 'purchase_data2.json')"
   ]
  },
  {
   "cell_type": "code",
   "execution_count": null,
   "metadata": {
    "collapsed": true
   },
   "outputs": [],
   "source": [
    "df1 = pd.read_json(filepath1)\n",
    "df2 = pd.read_json(filepath2)"
   ]
  },
  {
   "cell_type": "code",
   "execution_count": null,
   "metadata": {
    "collapsed": true
   },
   "outputs": [],
   "source": [
    "pur_data = pd.merge(df1,df2, how='outer')\n",
    "pur_data.head()"
   ]
  },
  {
   "cell_type": "code",
   "execution_count": null,
   "metadata": {},
   "outputs": [],
   "source": [
    "#Counts individuals \n",
    "Player_counter = len(pur_data['SN'].unique())\n",
    "players_df = pd.DataFrame([{'Total Players': Player_counter}])\n",
    "players_df.set_index('Total Players', inplace = True)\n",
    "players_df"
   ]
  },
  {
   "cell_type": "code",
   "execution_count": null,
   "metadata": {},
   "outputs": [],
   "source": [
    "#Removing Duplicates\n",
    "remove_Dup = pur_data.drop_duplicates(['Item ID'], keep = 'last')\n",
    "\n",
    "#counts items by unique ID\n",
    "total_unique = len(remove_Dup)\n",
    "#uses count.price to find total purchase\n",
    "total_pur = pur_data['Price'].count()\n",
    "\n",
    "#calculates total revenue for table by summing occurance of price and below calc\n",
    "total_rev = round(pur_data['Price'].sum(),2)\n",
    "#calculates total_rev\n",
    "avg_price = round(total_rev/total_pur, 2)\n",
    "\n",
    "#creates Purchase Analysis DataFrame\n",
    "pur_analysis = pd.DataFrame([{\n",
    "    \n",
    "    'Total Purchases': total_pur,\n",
    "    'Number of Unique Items': total_unique,\n",
    "    'Average Purchase Price': avg_price,\n",
    "    'Total Revenue': total_rev\n",
    "}])\n",
    "\n",
    "#Purchase Analysis\n",
    "pur_analysis.style.format({'Average Purchase Price': '${:.2f}', 'Total Revenue': '${:,.2f}'})\n"
   ]
  },
  {
   "cell_type": "code",
   "execution_count": null,
   "metadata": {},
   "outputs": [],
   "source": [
    "\"\"\"\n",
    " Gender Demographics\n",
    " Percentage and Count of Male Players\n",
    " Percentage and Count of Female Players\n",
    " Percentage and Count of Other / Non-Disclosed\n",
    "\"\"\"\n",
    "#creates df with no duplicates\n",
    "no_dup_players = pur_data.drop_duplicates(['SN'], keep ='last')\n",
    "\n",
    "#counts gender values \n",
    "gender_counts = no_dup_players['Gender'].value_counts().reset_index()\n",
    "\n",
    "#adds column for % of players using player count from first table and gender_count column\n",
    "\n",
    "gender_counts['% of Players'] = gender_counts['Gender']/Player_counter * 100\n",
    "#renames columns\n",
    "\n",
    "gender_counts.rename(columns = {'index': 'Gender', 'Gender': '# of Players'}, inplace = True)\n",
    "#sets index as Gender \n",
    "gender_counts.set_index(['Gender'], inplace = True)\n",
    "\n",
    "#formats table\n",
    "gender_counts.style.format({\"% of Players\": \"{:.1f}%\"})"
   ]
  },
  {
   "cell_type": "code",
   "execution_count": null,
   "metadata": {},
   "outputs": [],
   "source": [
    "\"\"\" \n",
    " Purchasing Analysis (Gender)\n",
    " The below each broken by gender\n",
    " Purchase Count\n",
    " Average Purchase Price\n",
    " Total Purchase Value\n",
    " Normalized Totals\n",
    "\"\"\"\n",
    "# counts purchases by gender\n",
    "pur_count_by_gen = pd.DataFrame(pur_data.groupby('Gender')['Gender'].count())\n",
    "# sums price by gender\n",
    "total_pur_by_gen = pd.DataFrame(pur_data.groupby('Gender')['Price'].sum())\n",
    "#merges the two data frames from above\n",
    "pur_analysis_gen = pd.merge(pur_count_by_gen, total_pur_by_gen, left_index = True, right_index = True)\n",
    "#renames columns\n",
    "\n",
    "pur_analysis_gen.rename(columns = {'Gender': '# of Purchases', 'Price':'Total Purchase Value'}, inplace=True)\n",
    "#adds column for average purchase price by gender by dividing total purcahse value by gender by # of purchases by gender\n",
    "pur_analysis_gen['Average Purchase Price'] = pur_analysis_gen['Total Purchase Value']/pur_analysis_gen['# of Purchases']\n",
    "#merges gender counts from above table (excluding dup SNs) into current df \n",
    "pur_analysis_gen = pur_analysis_gen.merge(gender_counts, left_index = True, right_index = True)\n",
    "# calculates and adds normalized total column by dividing total purchase value by unique # of players by genger\n",
    "pur_analysis_gen['Normalized Totals'] = pur_analysis_gen['Total Purchase Value']/pur_analysis_gen['# of Players']\n",
    "pur_analysis_gen\n",
    "\n",
    "#deletes columns \n",
    "del pur_analysis_gen['% of Players']\n",
    "del pur_analysis_gen['# of Players']\n",
    "\n",
    "\n",
    "pur_analysis_gen.style.format({'Total Purchase Value': '${:.2f}', 'Average Purchase Price': '${:.2f}', 'Normalized Totals': '${:.2f}'})"
   ]
  },
  {
   "cell_type": "code",
   "execution_count": null,
   "metadata": {},
   "outputs": [],
   "source": [
    "\"\"\"\n",
    "The below each broken into bins of 4 years (i.e. <10, 10-14, 15-19, etc.)\n",
    " Purchase Count\n",
    " Average Purchase Price\n",
    " Total Purchase Value\n",
    " Normalized Totals\n",
    "\"\"\"\n",
    "\n",
    "\n",
    "pur_data.loc[(pur_data['Age'] < 10), 'age_bin'] = \"< 10\"\n",
    "pur_data.loc[(pur_data['Age'] >= 10) & (pur_data['Age'] <= 14), 'age_bin'] = \"10 - 14\"\n",
    "pur_data.loc[(pur_data['Age'] >= 15) & (pur_data['Age'] <= 19), 'age_bin'] = \"15 - 19\"\n",
    "pur_data.loc[(pur_data['Age'] >= 20) & (pur_data['Age'] <= 24), 'age_bin'] = \"20 - 24\"\n",
    "pur_data.loc[(pur_data['Age'] >= 25) & (pur_data['Age'] <= 29), 'age_bin'] = \"25 - 29\"\n",
    "pur_data.loc[(pur_data['Age'] >= 30) & (pur_data['Age'] <= 34), 'age_bin'] = \"30 - 34\"\n",
    "pur_data.loc[(pur_data['Age'] >= 35) & (pur_data['Age'] <= 39), 'age_bin'] = \"35 - 39\"\n",
    "pur_data.loc[(pur_data['Age'] >= 40), 'age_bin'] = \"> 40\"\n",
    "\n",
    "\n",
    "\n",
    "# counts total purchases by age bin by counting screen names\n",
    "pur_count_age = pd.DataFrame(pur_data.groupby('age_bin')['SN'].count())\n",
    "\n",
    "#finds avg price of purchases by age bin\n",
    "avg_price_age = pd.DataFrame(pur_data.groupby('age_bin')['Price'].mean())\n",
    "#finds total purchase value by age bin\n",
    "tot_pur_age = pd.DataFrame(pur_data.groupby('age_bin')['Price'].sum())\n",
    "#deletes multiple occurances of SN while only keeping last, then counts # of unique\n",
    "#players by age bin\n",
    "no_dup_age = pd.DataFrame(pur_data.drop_duplicates('SN', keep = 'last').groupby('age_bin')['SN'].count())\n",
    "\n",
    "\n",
    "#merges all info from above into one df\n",
    "\n",
    "merge_age = pd.merge(pur_count_age, avg_price_age, left_index = True, right_index = True).merge(tot_pur_age, left_index = True, right_index = True).merge(no_dup_age, left_index = True, right_index = True)\n",
    "#renames columns\n",
    "merge_age.rename(columns = {\"SN_x\": \"# of Purchases\", \"Price_x\": \"Average Purchase Price\", \"Price_y\": \"Total Purchase Value\", \"SN_y\": \"# of Purchasers\"}, inplace = True)\n",
    "#ormalized totals\n",
    "merge_age['Normalized Totals'] = merge_age['Total Purchase Value']/merge_age['# of Purchasers']\n",
    "merge_age.index.rename(\"Age\", inplace = True)\n",
    "\n",
    "# formats\n",
    "merge_age.style.format({'Average Purchase Price': '${:.2f}', 'Total Purchase Value': '${:.2f}', 'Normalized Totals': '${:.2f}'})"
   ]
  },
  {
   "cell_type": "code",
   "execution_count": null,
   "metadata": {
    "collapsed": true
   },
   "outputs": [],
   "source": []
  },
  {
   "cell_type": "code",
   "execution_count": null,
   "metadata": {
    "collapsed": true
   },
   "outputs": [],
   "source": []
  },
  {
   "cell_type": "code",
   "execution_count": null,
   "metadata": {
    "collapsed": true
   },
   "outputs": [],
   "source": []
  }
 ],
 "metadata": {
  "kernelspec": {
   "display_name": "Python 3",
   "language": "python",
   "name": "python3"
  },
  "language_info": {
   "codemirror_mode": {
    "name": "ipython",
    "version": 3
   },
   "file_extension": ".py",
   "mimetype": "text/x-python",
   "name": "python",
   "nbconvert_exporter": "python",
   "pygments_lexer": "ipython3",
   "version": "3.6.3"
  }
 },
 "nbformat": 4,
 "nbformat_minor": 2
}
